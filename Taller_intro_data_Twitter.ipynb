{
  "nbformat": 4,
  "nbformat_minor": 0,
  "metadata": {
    "colab": {
      "name": "Taller intro data Twitter.ipynb",
      "provenance": [],
      "collapsed_sections": [],
      "authorship_tag": "ABX9TyPZapo5k81G3Ob4Abl+asUN",
      "include_colab_link": true
    },
    "kernelspec": {
      "name": "python3",
      "display_name": "Python 3"
    },
    "language_info": {
      "name": "python"
    }
  },
  "cells": [
    {
      "cell_type": "markdown",
      "metadata": {
        "id": "view-in-github",
        "colab_type": "text"
      },
      "source": [
        "<a href=\"https://colab.research.google.com/github/LabCInf/tw_textanalysis/blob/main/Taller_intro_data_Twitter.ipynb\" target=\"_parent\"><img src=\"https://colab.research.google.com/assets/colab-badge.svg\" alt=\"Open In Colab\"/></a>"
      ]
    },
    {
      "cell_type": "markdown",
      "metadata": {
        "id": "fnTkVdMtjnFT"
      },
      "source": [
        "<p><img alt=\"Colaboratory logo\" height=\"160px\" src=\"https://upload.wikimedia.org/wikipedia/commons/archive/f/fb/20161010213812%21Escudo-UdeA.svg\" align=\"left\" hspace=\"10px\" vspace=\"0px\"></p>\n",
        "\n",
        "<h1> Introducción a la captura de datos de Twitter</h1>\n",
        "\n",
        "<h2>Material preparado por: Jaider Ochoa-Gutiérrez y David Medina</h2>\n",
        "\n",
        "Este será un rápido vistazo de cómo usar el API de Twitter para la captura de datos. En este caso, se usará el lenguaje de programación Python y la versión académica del API.\n",
        "\n",
        "**¡Manos a la obra!**\n"
      ]
    },
    {
      "cell_type": "code",
      "metadata": {
        "id": "yx8pifC8Xrg3"
      },
      "source": [
        ""
      ],
      "execution_count": null,
      "outputs": []
    }
  ]
}